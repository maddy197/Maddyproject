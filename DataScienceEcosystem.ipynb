{
  "metadata": {
    "language_info": {
      "codemirror_mode": {
        "name": "python",
        "version": 3
      },
      "file_extension": ".py",
      "mimetype": "text/x-python",
      "name": "python",
      "nbconvert_exporter": "python",
      "pygments_lexer": "ipython3",
      "version": "3.8"
    },
    "kernelspec": {
      "name": "python",
      "display_name": "Python (Pyodide)",
      "language": "python"
    }
  },
  "nbformat_minor": 4,
  "nbformat": 4,
  "cells": [
    {
      "cell_type": "markdown",
      "source": "#Data Science Tools and Ecosystem\n#In this notebook, Data Science Tools and Ecosystem are summarized.\n#**Objectives:**\n- List popular languages for Data Science\n- List ommonly used libraries used by Data Scientists\n- List of Data Science Tools\n#Some of the popular languages that Data Scientists use are:\n1. Python\n2. R\n3. Scala\n4. Julia\n5. C\n6. SQL\n7. Java\n8. MATLAB\n#Some of the commonly used libraries used by Data Scientists include:\n-TensorFlow\n-NumPy\n-SciPy\n-Pandas\n-Matplotlib\n-Keras\n-SciKit-Learn\n-PyTorch\n##table \n| Data Science Tools |\n| -------------|\n| Apache Spark | \n| Jupyter Notebook |\n| Keras | \n###Below are a few examples of evaluating arithmetic expressions in Python\n##Author \nMaddie\n\n\n",
      "metadata": {}
    },
    {
      "cell_type": "code",
      "source": "#This a simple arithmetic expression to mutiply then add integers\n(3*4)+5",
      "metadata": {
        "trusted": true
      },
      "execution_count": 5,
      "outputs": [
        {
          "execution_count": 5,
          "output_type": "execute_result",
          "data": {
            "text/plain": "17"
          },
          "metadata": {}
        }
      ]
    },
    {
      "cell_type": "code",
      "source": "#This will convert 200 minutes to hours by diving by 60\n200/60\n",
      "metadata": {
        "trusted": true
      },
      "execution_count": 6,
      "outputs": [
        {
          "execution_count": 6,
          "output_type": "execute_result",
          "data": {
            "text/plain": "3.3333333333333335"
          },
          "metadata": {}
        }
      ]
    },
    {
      "cell_type": "code",
      "source": "",
      "metadata": {},
      "execution_count": null,
      "outputs": []
    }
  ]
}